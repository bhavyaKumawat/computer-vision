{
  "nbformat": 4,
  "nbformat_minor": 0,
  "metadata": {
    "colab": {
      "provenance": [],
      "authorship_tag": "ABX9TyOHmJODBZ2coE/VeyXT36m0"
    },
    "kernelspec": {
      "name": "python3",
      "display_name": "Python 3"
    },
    "language_info": {
      "name": "python"
    },
    "accelerator": "GPU",
    "gpuClass": "standard"
  },
  "cells": [
    {
      "cell_type": "markdown",
      "source": [
        "#Load a pre-trained model"
      ],
      "metadata": {
        "id": "G2mGnk9cMcZZ"
      }
    },
    {
      "cell_type": "code",
      "execution_count": 1,
      "metadata": {
        "colab": {
          "base_uri": "https://localhost:8080/"
        },
        "id": "lgfSP564MHNI",
        "outputId": "a2962012-de22-43e3-a9b9-012ddbf59ebf"
      },
      "outputs": [
        {
          "output_type": "stream",
          "name": "stdout",
          "text": [
            "Downloading data from https://storage.googleapis.com/tensorflow/keras-applications/vgg16/vgg16_weights_tf_dim_ordering_tf_kernels.h5\n",
            "553467096/553467096 [==============================] - 25s 0us/step\n",
            "Model: \"vgg16\"\n",
            "_________________________________________________________________\n",
            " Layer (type)                Output Shape              Param #   \n",
            "=================================================================\n",
            " input_1 (InputLayer)        [(None, 224, 224, 3)]     0         \n",
            "                                                                 \n",
            " block1_conv1 (Conv2D)       (None, 224, 224, 64)      1792      \n",
            "                                                                 \n",
            " block1_conv2 (Conv2D)       (None, 224, 224, 64)      36928     \n",
            "                                                                 \n",
            " block1_pool (MaxPooling2D)  (None, 112, 112, 64)      0         \n",
            "                                                                 \n",
            " block2_conv1 (Conv2D)       (None, 112, 112, 128)     73856     \n",
            "                                                                 \n",
            " block2_conv2 (Conv2D)       (None, 112, 112, 128)     147584    \n",
            "                                                                 \n",
            " block2_pool (MaxPooling2D)  (None, 56, 56, 128)       0         \n",
            "                                                                 \n",
            " block3_conv1 (Conv2D)       (None, 56, 56, 256)       295168    \n",
            "                                                                 \n",
            " block3_conv2 (Conv2D)       (None, 56, 56, 256)       590080    \n",
            "                                                                 \n",
            " block3_conv3 (Conv2D)       (None, 56, 56, 256)       590080    \n",
            "                                                                 \n",
            " block3_pool (MaxPooling2D)  (None, 28, 28, 256)       0         \n",
            "                                                                 \n",
            " block4_conv1 (Conv2D)       (None, 28, 28, 512)       1180160   \n",
            "                                                                 \n",
            " block4_conv2 (Conv2D)       (None, 28, 28, 512)       2359808   \n",
            "                                                                 \n",
            " block4_conv3 (Conv2D)       (None, 28, 28, 512)       2359808   \n",
            "                                                                 \n",
            " block4_pool (MaxPooling2D)  (None, 14, 14, 512)       0         \n",
            "                                                                 \n",
            " block5_conv1 (Conv2D)       (None, 14, 14, 512)       2359808   \n",
            "                                                                 \n",
            " block5_conv2 (Conv2D)       (None, 14, 14, 512)       2359808   \n",
            "                                                                 \n",
            " block5_conv3 (Conv2D)       (None, 14, 14, 512)       2359808   \n",
            "                                                                 \n",
            " block5_pool (MaxPooling2D)  (None, 7, 7, 512)         0         \n",
            "                                                                 \n",
            " flatten (Flatten)           (None, 25088)             0         \n",
            "                                                                 \n",
            " fc1 (Dense)                 (None, 4096)              102764544 \n",
            "                                                                 \n",
            " fc2 (Dense)                 (None, 4096)              16781312  \n",
            "                                                                 \n",
            " predictions (Dense)         (None, 1000)              4097000   \n",
            "                                                                 \n",
            "=================================================================\n",
            "Total params: 138,357,544\n",
            "Trainable params: 138,357,544\n",
            "Non-trainable params: 0\n",
            "_________________________________________________________________\n"
          ]
        }
      ],
      "source": [
        "from keras.applications.vgg16 import VGG16\n",
        "model = VGG16()\n",
        "model.summary()"
      ]
    },
    {
      "cell_type": "markdown",
      "source": [
        "# Visualize Filters"
      ],
      "metadata": {
        "id": "hqi4mNR4M_4g"
      }
    },
    {
      "cell_type": "code",
      "source": [
        "for layer in model.layers: # access all the layers\n",
        "  print(layer.name)"
      ],
      "metadata": {
        "colab": {
          "base_uri": "https://localhost:8080/"
        },
        "id": "FWJZ7Z-ZMvst",
        "outputId": "30a54211-be44-471a-8087-e04c1f91c696"
      },
      "execution_count": 2,
      "outputs": [
        {
          "output_type": "stream",
          "name": "stdout",
          "text": [
            "input_1\n",
            "block1_conv1\n",
            "block1_conv2\n",
            "block1_pool\n",
            "block2_conv1\n",
            "block2_conv2\n",
            "block2_pool\n",
            "block3_conv1\n",
            "block3_conv2\n",
            "block3_conv3\n",
            "block3_pool\n",
            "block4_conv1\n",
            "block4_conv2\n",
            "block4_conv3\n",
            "block4_pool\n",
            "block5_conv1\n",
            "block5_conv2\n",
            "block5_conv3\n",
            "block5_pool\n",
            "flatten\n",
            "fc1\n",
            "fc2\n",
            "predictions\n"
          ]
        }
      ]
    },
    {
      "cell_type": "code",
      "source": [
        "for layer in model.layers:\n",
        "  if 'conv' in layer.name:\n",
        "    filters, biases =layer.get_weights()\n",
        "    print(layer.name, filters.shape)"
      ],
      "metadata": {
        "colab": {
          "base_uri": "https://localhost:8080/"
        },
        "id": "MkDB_JXkNprx",
        "outputId": "6d5ba077-a662-406f-d19b-d7730b3aba87"
      },
      "execution_count": 3,
      "outputs": [
        {
          "output_type": "stream",
          "name": "stdout",
          "text": [
            "block1_conv1 (3, 3, 3, 64)\n",
            "block1_conv2 (3, 3, 64, 64)\n",
            "block2_conv1 (3, 3, 64, 128)\n",
            "block2_conv2 (3, 3, 128, 128)\n",
            "block3_conv1 (3, 3, 128, 256)\n",
            "block3_conv2 (3, 3, 256, 256)\n",
            "block3_conv3 (3, 3, 256, 256)\n",
            "block4_conv1 (3, 3, 256, 512)\n",
            "block4_conv2 (3, 3, 512, 512)\n",
            "block4_conv3 (3, 3, 512, 512)\n",
            "block5_conv1 (3, 3, 512, 512)\n",
            "block5_conv2 (3, 3, 512, 512)\n",
            "block5_conv3 (3, 3, 512, 512)\n"
          ]
        }
      ]
    },
    {
      "cell_type": "markdown",
      "source": [
        "(3, 3, 3, 64) ->\n",
        "(height, width, channels, number_of_filters)"
      ],
      "metadata": {
        "id": "dyB5P09VQcBG"
      }
    },
    {
      "cell_type": "code",
      "source": [
        "filters, biases= model.layers[1].get_weights() # weights from the 2nd hidden layer\n",
        "filters.shape "
      ],
      "metadata": {
        "id": "oX08EsWBOuQP",
        "colab": {
          "base_uri": "https://localhost:8080/"
        },
        "outputId": "dcdeec25-7ad3-4656-d509-d478787e6bf9"
      },
      "execution_count": 4,
      "outputs": [
        {
          "output_type": "execute_result",
          "data": {
            "text/plain": [
              "(3, 3, 3, 64)"
            ]
          },
          "metadata": {},
          "execution_count": 4
        }
      ]
    },
    {
      "cell_type": "code",
      "source": [
        "filters[:, :, :, 0].shape #1st filter"
      ],
      "metadata": {
        "colab": {
          "base_uri": "https://localhost:8080/"
        },
        "id": "nmoDovZeTXDm",
        "outputId": "a2f04928-1096-44aa-b968-37c21f6a375d"
      },
      "execution_count": 5,
      "outputs": [
        {
          "output_type": "execute_result",
          "data": {
            "text/plain": [
              "(3, 3, 3)"
            ]
          },
          "metadata": {},
          "execution_count": 5
        }
      ]
    },
    {
      "cell_type": "markdown",
      "source": [
        " * Normalize values between 0 and 1\n",
        "\n",
        " x$_{i_{normalized}}$ = (x$_i$ – x$_{min}$) / (x$_{max}$ – x$_{min}$)"
      ],
      "metadata": {
        "id": "l0GVe_ODdPlU"
      }
    },
    {
      "cell_type": "code",
      "source": [
        "# normalize filter values to 0-1 so we can visualize them\n",
        "f_min, f_max = filters.min(), filters.max()\n",
        "filters = (filters - f_min) / (f_max - f_min)"
      ],
      "metadata": {
        "id": "8Cf0ayazTkvX"
      },
      "execution_count": 6,
      "outputs": []
    },
    {
      "cell_type": "markdown",
      "source": [
        " Plot filters "
      ],
      "metadata": {
        "id": "bcSIrUv6fp-5"
      }
    },
    {
      "cell_type": "code",
      "source": [
        "import matplotlib.pyplot as plt\n",
        "\n",
        "n_filters, ix = 6, 1\n",
        "for i in range(n_filters):\n",
        "\tf = filters[:, :, :, i]\n",
        "\tfor j in range(3): #3 channels\n",
        "\t\tax = plt.subplot(n_filters, 3, ix)\n",
        "\t\tax.set_xticks([])\n",
        "\t\tax.set_yticks([])\n",
        "\t\tplt.imshow(f[:, :, j], cmap='gray')\n",
        "\t\tix += 1\n",
        "plt.show()"
      ],
      "metadata": {
        "colab": {
          "base_uri": "https://localhost:8080/",
          "height": 406
        },
        "id": "vlv_1A2Fa8Nw",
        "outputId": "38cf1f80-6962-482f-fffc-20635b29393a"
      },
      "execution_count": 11,
      "outputs": [
        {
          "output_type": "display_data",
          "data": {
            "text/plain": [
              "<Figure size 640x480 with 18 Axes>"
            ],
            "image/png": "[encoded data removed]"
          },
          "metadata": {}
        }
      ]
    },
    {
      "cell_type": "markdown",
      "source": [
        "Dark squares indicate small weights and the light squares represent large weights"
      ],
      "metadata": {
        "id": "odqQJHy1TEK-"
      }
    },
    {
      "cell_type": "code",
      "source": [],
      "metadata": {
        "id": "jNbSHnE12Wr4"
      },
      "execution_count": 7,
      "outputs": []
    }
  ]
}